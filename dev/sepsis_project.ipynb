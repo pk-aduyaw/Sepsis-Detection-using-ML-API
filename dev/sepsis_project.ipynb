{
 "cells": [
  {
   "cell_type": "markdown",
   "metadata": {},
   "source": [
    "<h1 align='center'>Sepsis Detection with ML API using FastAPI<h1>"
   ]
  },
  {
   "cell_type": "markdown",
   "metadata": {},
   "source": [
    "## Business Objective"
   ]
  },
  {
   "cell_type": "markdown",
   "metadata": {},
   "source": [
    "Early detection of sepsis is essential for patients to receive timely treatment and improve their chances of survival. Fortunately, machine learning technology can help medical professionals identify sepsis quickly and accurately. By using an ML API for sepsis detection, healthcare providers can analyze a patient's medical data and receive real-time notifications when symptoms of sepsis are present.\n",
    "\n",
    "This can lead to faster diagnosis and treatment, saving lives and reducing healthcare costs. With the power of ML technology at our fingertips, we have an opportunity to make a significant impact on the fight against sepsis."
   ]
  },
  {
   "cell_type": "code",
   "execution_count": null,
   "metadata": {},
   "outputs": [],
   "source": []
  }
 ],
 "metadata": {
  "language_info": {
   "name": "python"
  }
 },
 "nbformat": 4,
 "nbformat_minor": 2
}
